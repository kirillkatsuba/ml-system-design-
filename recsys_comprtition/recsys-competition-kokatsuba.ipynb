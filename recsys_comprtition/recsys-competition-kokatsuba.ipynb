{
 "cells": [
  {
   "cell_type": "code",
   "execution_count": 1,
   "id": "c3e3f6c8-4676-4542-898c-29df0cd839c3",
   "metadata": {
    "collapsed": true,
    "execution": {
     "iopub.execute_input": "2025-05-16T19:32:36.692110Z",
     "iopub.status.busy": "2025-05-16T19:32:36.691775Z",
     "iopub.status.idle": "2025-05-16T19:32:50.521590Z",
     "shell.execute_reply": "2025-05-16T19:32:50.520376Z",
     "shell.execute_reply.started": "2025-05-16T19:32:36.692084Z"
    },
    "jupyter": {
     "outputs_hidden": true
    },
    "trusted": true
   },
   "outputs": [
    {
     "name": "stdout",
     "output_type": "stream",
     "text": [
      "Collecting mlflow\n",
      "  Downloading mlflow-2.22.0-py3-none-any.whl.metadata (30 kB)\n",
      "Collecting mlflow-skinny==2.22.0 (from mlflow)\n",
      "  Downloading mlflow_skinny-2.22.0-py3-none-any.whl.metadata (31 kB)\n",
      "Requirement already satisfied: Flask<4 in /usr/local/lib/python3.11/dist-packages (from mlflow) (3.1.0)\n",
      "Requirement already satisfied: Jinja2<4,>=2.11 in /usr/local/lib/python3.11/dist-packages (from mlflow) (3.1.6)\n",
      "Requirement already satisfied: alembic!=1.10.0,<2 in /usr/local/lib/python3.11/dist-packages (from mlflow) (1.15.2)\n",
      "Requirement already satisfied: docker<8,>=4.0.0 in /usr/local/lib/python3.11/dist-packages (from mlflow) (7.1.0)\n",
      "Collecting graphene<4 (from mlflow)\n",
      "  Downloading graphene-3.4.3-py2.py3-none-any.whl.metadata (6.9 kB)\n",
      "Collecting gunicorn<24 (from mlflow)\n",
      "  Downloading gunicorn-23.0.0-py3-none-any.whl.metadata (4.4 kB)\n",
      "Requirement already satisfied: markdown<4,>=3.3 in /usr/local/lib/python3.11/dist-packages (from mlflow) (3.7)\n",
      "Requirement already satisfied: matplotlib<4 in /usr/local/lib/python3.11/dist-packages (from mlflow) (3.7.2)\n",
      "Requirement already satisfied: numpy<3 in /usr/local/lib/python3.11/dist-packages (from mlflow) (1.26.4)\n",
      "Requirement already satisfied: pandas<3 in /usr/local/lib/python3.11/dist-packages (from mlflow) (2.2.3)\n",
      "Requirement already satisfied: pyarrow<20,>=4.0.0 in /usr/local/lib/python3.11/dist-packages (from mlflow) (19.0.1)\n",
      "Requirement already satisfied: scikit-learn<2 in /usr/local/lib/python3.11/dist-packages (from mlflow) (1.2.2)\n",
      "Requirement already satisfied: scipy<2 in /usr/local/lib/python3.11/dist-packages (from mlflow) (1.15.2)\n",
      "Requirement already satisfied: sqlalchemy<3,>=1.4.0 in /usr/local/lib/python3.11/dist-packages (from mlflow) (2.0.40)\n",
      "Requirement already satisfied: cachetools<6,>=5.0.0 in /usr/local/lib/python3.11/dist-packages (from mlflow-skinny==2.22.0->mlflow) (5.5.2)\n",
      "Requirement already satisfied: click<9,>=7.0 in /usr/local/lib/python3.11/dist-packages (from mlflow-skinny==2.22.0->mlflow) (8.1.8)\n",
      "Requirement already satisfied: cloudpickle<4 in /usr/local/lib/python3.11/dist-packages (from mlflow-skinny==2.22.0->mlflow) (3.1.1)\n",
      "Collecting databricks-sdk<1,>=0.20.0 (from mlflow-skinny==2.22.0->mlflow)\n",
      "  Downloading databricks_sdk-0.53.0-py3-none-any.whl.metadata (39 kB)\n",
      "Collecting fastapi<1 (from mlflow-skinny==2.22.0->mlflow)\n",
      "  Downloading fastapi-0.115.12-py3-none-any.whl.metadata (27 kB)\n",
      "Requirement already satisfied: gitpython<4,>=3.1.9 in /usr/local/lib/python3.11/dist-packages (from mlflow-skinny==2.22.0->mlflow) (3.1.44)\n",
      "Requirement already satisfied: importlib_metadata!=4.7.0,<9,>=3.7.0 in /usr/local/lib/python3.11/dist-packages (from mlflow-skinny==2.22.0->mlflow) (8.7.0)\n",
      "Requirement already satisfied: opentelemetry-api<3,>=1.9.0 in /usr/local/lib/python3.11/dist-packages (from mlflow-skinny==2.22.0->mlflow) (1.31.1)\n",
      "Requirement already satisfied: opentelemetry-sdk<3,>=1.9.0 in /usr/local/lib/python3.11/dist-packages (from mlflow-skinny==2.22.0->mlflow) (1.31.1)\n",
      "Collecting packaging<25 (from mlflow-skinny==2.22.0->mlflow)\n",
      "  Downloading packaging-24.2-py3-none-any.whl.metadata (3.2 kB)\n",
      "Requirement already satisfied: protobuf<7,>=3.12.0 in /usr/local/lib/python3.11/dist-packages (from mlflow-skinny==2.22.0->mlflow) (3.20.3)\n",
      "Requirement already satisfied: pydantic<3,>=1.10.8 in /usr/local/lib/python3.11/dist-packages (from mlflow-skinny==2.22.0->mlflow) (2.11.4)\n",
      "Requirement already satisfied: pyyaml<7,>=5.1 in /usr/local/lib/python3.11/dist-packages (from mlflow-skinny==2.22.0->mlflow) (6.0.2)\n",
      "Requirement already satisfied: requests<3,>=2.17.3 in /usr/local/lib/python3.11/dist-packages (from mlflow-skinny==2.22.0->mlflow) (2.32.3)\n",
      "Requirement already satisfied: sqlparse<1,>=0.4.0 in /usr/local/lib/python3.11/dist-packages (from mlflow-skinny==2.22.0->mlflow) (0.5.3)\n",
      "Requirement already satisfied: typing-extensions<5,>=4.0.0 in /usr/local/lib/python3.11/dist-packages (from mlflow-skinny==2.22.0->mlflow) (4.13.2)\n",
      "Collecting uvicorn<1 (from mlflow-skinny==2.22.0->mlflow)\n",
      "  Downloading uvicorn-0.34.2-py3-none-any.whl.metadata (6.5 kB)\n",
      "Requirement already satisfied: Mako in /usr/local/lib/python3.11/dist-packages (from alembic!=1.10.0,<2->mlflow) (1.3.10)\n",
      "Requirement already satisfied: urllib3>=1.26.0 in /usr/local/lib/python3.11/dist-packages (from docker<8,>=4.0.0->mlflow) (2.4.0)\n",
      "Requirement already satisfied: Werkzeug>=3.1 in /usr/local/lib/python3.11/dist-packages (from Flask<4->mlflow) (3.1.3)\n",
      "Requirement already satisfied: itsdangerous>=2.2 in /usr/local/lib/python3.11/dist-packages (from Flask<4->mlflow) (2.2.0)\n",
      "Requirement already satisfied: blinker>=1.9 in /usr/local/lib/python3.11/dist-packages (from Flask<4->mlflow) (1.9.0)\n",
      "Collecting graphql-core<3.3,>=3.1 (from graphene<4->mlflow)\n",
      "  Downloading graphql_core-3.2.6-py3-none-any.whl.metadata (11 kB)\n",
      "Collecting graphql-relay<3.3,>=3.1 (from graphene<4->mlflow)\n",
      "  Downloading graphql_relay-3.2.0-py3-none-any.whl.metadata (12 kB)\n",
      "Requirement already satisfied: python-dateutil<3,>=2.7.0 in /usr/local/lib/python3.11/dist-packages (from graphene<4->mlflow) (2.9.0.post0)\n",
      "Requirement already satisfied: MarkupSafe>=2.0 in /usr/local/lib/python3.11/dist-packages (from Jinja2<4,>=2.11->mlflow) (3.0.2)\n",
      "Requirement already satisfied: contourpy>=1.0.1 in /usr/local/lib/python3.11/dist-packages (from matplotlib<4->mlflow) (1.3.1)\n",
      "Requirement already satisfied: cycler>=0.10 in /usr/local/lib/python3.11/dist-packages (from matplotlib<4->mlflow) (0.12.1)\n",
      "Requirement already satisfied: fonttools>=4.22.0 in /usr/local/lib/python3.11/dist-packages (from matplotlib<4->mlflow) (4.57.0)\n",
      "Requirement already satisfied: kiwisolver>=1.0.1 in /usr/local/lib/python3.11/dist-packages (from matplotlib<4->mlflow) (1.4.8)\n",
      "Requirement already satisfied: pillow>=6.2.0 in /usr/local/lib/python3.11/dist-packages (from matplotlib<4->mlflow) (11.1.0)\n",
      "Requirement already satisfied: pyparsing<3.1,>=2.3.1 in /usr/local/lib/python3.11/dist-packages (from matplotlib<4->mlflow) (3.0.9)\n",
      "Requirement already satisfied: mkl_fft in /usr/local/lib/python3.11/dist-packages (from numpy<3->mlflow) (1.3.8)\n",
      "Requirement already satisfied: mkl_random in /usr/local/lib/python3.11/dist-packages (from numpy<3->mlflow) (1.2.4)\n",
      "Requirement already satisfied: mkl_umath in /usr/local/lib/python3.11/dist-packages (from numpy<3->mlflow) (0.1.1)\n",
      "Requirement already satisfied: mkl in /usr/local/lib/python3.11/dist-packages (from numpy<3->mlflow) (2025.1.0)\n",
      "Requirement already satisfied: tbb4py in /usr/local/lib/python3.11/dist-packages (from numpy<3->mlflow) (2022.1.0)\n",
      "Requirement already satisfied: mkl-service in /usr/local/lib/python3.11/dist-packages (from numpy<3->mlflow) (2.4.1)\n",
      "Requirement already satisfied: pytz>=2020.1 in /usr/local/lib/python3.11/dist-packages (from pandas<3->mlflow) (2025.2)\n",
      "Requirement already satisfied: tzdata>=2022.7 in /usr/local/lib/python3.11/dist-packages (from pandas<3->mlflow) (2025.2)\n",
      "Requirement already satisfied: joblib>=1.1.1 in /usr/local/lib/python3.11/dist-packages (from scikit-learn<2->mlflow) (1.5.0)\n",
      "Requirement already satisfied: threadpoolctl>=2.0.0 in /usr/local/lib/python3.11/dist-packages (from scikit-learn<2->mlflow) (3.6.0)\n",
      "Requirement already satisfied: greenlet>=1 in /usr/local/lib/python3.11/dist-packages (from sqlalchemy<3,>=1.4.0->mlflow) (3.1.1)\n",
      "Requirement already satisfied: google-auth~=2.0 in /usr/local/lib/python3.11/dist-packages (from databricks-sdk<1,>=0.20.0->mlflow-skinny==2.22.0->mlflow) (2.40.1)\n",
      "Collecting starlette<0.47.0,>=0.40.0 (from fastapi<1->mlflow-skinny==2.22.0->mlflow)\n",
      "  Downloading starlette-0.46.2-py3-none-any.whl.metadata (6.2 kB)\n",
      "Requirement already satisfied: gitdb<5,>=4.0.1 in /usr/local/lib/python3.11/dist-packages (from gitpython<4,>=3.1.9->mlflow-skinny==2.22.0->mlflow) (4.0.12)\n",
      "Requirement already satisfied: zipp>=3.20 in /usr/local/lib/python3.11/dist-packages (from importlib_metadata!=4.7.0,<9,>=3.7.0->mlflow-skinny==2.22.0->mlflow) (3.21.0)\n",
      "Requirement already satisfied: deprecated>=1.2.6 in /usr/local/lib/python3.11/dist-packages (from opentelemetry-api<3,>=1.9.0->mlflow-skinny==2.22.0->mlflow) (1.2.18)\n",
      "Collecting importlib_metadata!=4.7.0,<9,>=3.7.0 (from mlflow-skinny==2.22.0->mlflow)\n",
      "  Downloading importlib_metadata-8.6.1-py3-none-any.whl.metadata (4.7 kB)\n",
      "Requirement already satisfied: opentelemetry-semantic-conventions==0.52b1 in /usr/local/lib/python3.11/dist-packages (from opentelemetry-sdk<3,>=1.9.0->mlflow-skinny==2.22.0->mlflow) (0.52b1)\n",
      "Requirement already satisfied: annotated-types>=0.6.0 in /usr/local/lib/python3.11/dist-packages (from pydantic<3,>=1.10.8->mlflow-skinny==2.22.0->mlflow) (0.7.0)\n",
      "Requirement already satisfied: pydantic-core==2.33.2 in /usr/local/lib/python3.11/dist-packages (from pydantic<3,>=1.10.8->mlflow-skinny==2.22.0->mlflow) (2.33.2)\n",
      "Requirement already satisfied: typing-inspection>=0.4.0 in /usr/local/lib/python3.11/dist-packages (from pydantic<3,>=1.10.8->mlflow-skinny==2.22.0->mlflow) (0.4.0)\n",
      "Requirement already satisfied: six>=1.5 in /usr/local/lib/python3.11/dist-packages (from python-dateutil<3,>=2.7.0->graphene<4->mlflow) (1.17.0)\n",
      "Requirement already satisfied: charset-normalizer<4,>=2 in /usr/local/lib/python3.11/dist-packages (from requests<3,>=2.17.3->mlflow-skinny==2.22.0->mlflow) (3.4.2)\n",
      "Requirement already satisfied: idna<4,>=2.5 in /usr/local/lib/python3.11/dist-packages (from requests<3,>=2.17.3->mlflow-skinny==2.22.0->mlflow) (3.10)\n",
      "Requirement already satisfied: certifi>=2017.4.17 in /usr/local/lib/python3.11/dist-packages (from requests<3,>=2.17.3->mlflow-skinny==2.22.0->mlflow) (2025.4.26)\n",
      "Requirement already satisfied: h11>=0.8 in /usr/local/lib/python3.11/dist-packages (from uvicorn<1->mlflow-skinny==2.22.0->mlflow) (0.14.0)\n",
      "Requirement already satisfied: intel-openmp<2026,>=2024 in /usr/local/lib/python3.11/dist-packages (from mkl->numpy<3->mlflow) (2024.2.0)\n",
      "Requirement already satisfied: tbb==2022.* in /usr/local/lib/python3.11/dist-packages (from mkl->numpy<3->mlflow) (2022.1.0)\n",
      "Requirement already satisfied: tcmlib==1.* in /usr/local/lib/python3.11/dist-packages (from tbb==2022.*->mkl->numpy<3->mlflow) (1.3.0)\n",
      "Requirement already satisfied: intel-cmplr-lib-rt in /usr/local/lib/python3.11/dist-packages (from mkl_umath->numpy<3->mlflow) (2024.2.0)\n",
      "Requirement already satisfied: wrapt<2,>=1.10 in /usr/local/lib/python3.11/dist-packages (from deprecated>=1.2.6->opentelemetry-api<3,>=1.9.0->mlflow-skinny==2.22.0->mlflow) (1.17.2)\n",
      "Requirement already satisfied: smmap<6,>=3.0.1 in /usr/local/lib/python3.11/dist-packages (from gitdb<5,>=4.0.1->gitpython<4,>=3.1.9->mlflow-skinny==2.22.0->mlflow) (5.0.2)\n",
      "Requirement already satisfied: pyasn1-modules>=0.2.1 in /usr/local/lib/python3.11/dist-packages (from google-auth~=2.0->databricks-sdk<1,>=0.20.0->mlflow-skinny==2.22.0->mlflow) (0.4.2)\n",
      "Requirement already satisfied: rsa<5,>=3.1.4 in /usr/local/lib/python3.11/dist-packages (from google-auth~=2.0->databricks-sdk<1,>=0.20.0->mlflow-skinny==2.22.0->mlflow) (4.9.1)\n",
      "Requirement already satisfied: intel-cmplr-lib-ur==2024.2.0 in /usr/local/lib/python3.11/dist-packages (from intel-openmp<2026,>=2024->mkl->numpy<3->mlflow) (2024.2.0)\n",
      "Requirement already satisfied: anyio<5,>=3.6.2 in /usr/local/lib/python3.11/dist-packages (from starlette<0.47.0,>=0.40.0->fastapi<1->mlflow-skinny==2.22.0->mlflow) (4.9.0)\n",
      "Requirement already satisfied: sniffio>=1.1 in /usr/local/lib/python3.11/dist-packages (from anyio<5,>=3.6.2->starlette<0.47.0,>=0.40.0->fastapi<1->mlflow-skinny==2.22.0->mlflow) (1.3.1)\n",
      "Requirement already satisfied: pyasn1<0.7.0,>=0.6.1 in /usr/local/lib/python3.11/dist-packages (from pyasn1-modules>=0.2.1->google-auth~=2.0->databricks-sdk<1,>=0.20.0->mlflow-skinny==2.22.0->mlflow) (0.6.1)\n",
      "Downloading mlflow-2.22.0-py3-none-any.whl (29.0 MB)\n",
      "\u001b[2K   \u001b[90m━━━━━━━━━━━━━━━━━━━━━━━━━━━━━━━━━━━━━━━━\u001b[0m \u001b[32m29.0/29.0 MB\u001b[0m \u001b[31m54.7 MB/s\u001b[0m eta \u001b[36m0:00:00\u001b[0m:00:01\u001b[0m00:01\u001b[0m\n",
      "\u001b[?25hDownloading mlflow_skinny-2.22.0-py3-none-any.whl (6.3 MB)\n",
      "\u001b[2K   \u001b[90m━━━━━━━━━━━━━━━━━━━━━━━━━━━━━━━━━━━━━━━━\u001b[0m \u001b[32m6.3/6.3 MB\u001b[0m \u001b[31m94.2 MB/s\u001b[0m eta \u001b[36m0:00:00\u001b[0m:00:01\u001b[0m\n",
      "\u001b[?25hDownloading graphene-3.4.3-py2.py3-none-any.whl (114 kB)\n",
      "\u001b[2K   \u001b[90m━━━━━━━━━━━━━━━━━━━━━━━━━━━━━━━━━━━━━━━━\u001b[0m \u001b[32m114.9/114.9 kB\u001b[0m \u001b[31m6.2 MB/s\u001b[0m eta \u001b[36m0:00:00\u001b[0m\n",
      "\u001b[?25hDownloading gunicorn-23.0.0-py3-none-any.whl (85 kB)\n",
      "\u001b[2K   \u001b[90m━━━━━━━━━━━━━━━━━━━━━━━━━━━━━━━━━━━━━━━━\u001b[0m \u001b[32m85.0/85.0 kB\u001b[0m \u001b[31m4.4 MB/s\u001b[0m eta \u001b[36m0:00:00\u001b[0m\n",
      "\u001b[?25hDownloading databricks_sdk-0.53.0-py3-none-any.whl (700 kB)\n",
      "\u001b[2K   \u001b[90m━━━━━━━━━━━━━━━━━━━━━━━━━━━━━━━━━━━━━━━━\u001b[0m \u001b[32m700.2/700.2 kB\u001b[0m \u001b[31m26.6 MB/s\u001b[0m eta \u001b[36m0:00:00\u001b[0m\n",
      "\u001b[?25hDownloading fastapi-0.115.12-py3-none-any.whl (95 kB)\n",
      "\u001b[2K   \u001b[90m━━━━━━━━━━━━━━━━━━━━━━━━━━━━━━━━━━━━━━━━\u001b[0m \u001b[32m95.2/95.2 kB\u001b[0m \u001b[31m4.5 MB/s\u001b[0m eta \u001b[36m0:00:00\u001b[0m\n",
      "\u001b[?25hDownloading graphql_core-3.2.6-py3-none-any.whl (203 kB)\n",
      "\u001b[2K   \u001b[90m━━━━━━━━━━━━━━━━━━━━━━━━━━━━━━━━━━━━━━━━\u001b[0m \u001b[32m203.4/203.4 kB\u001b[0m \u001b[31m11.0 MB/s\u001b[0m eta \u001b[36m0:00:00\u001b[0m\n",
      "\u001b[?25hDownloading graphql_relay-3.2.0-py3-none-any.whl (16 kB)\n",
      "Downloading importlib_metadata-8.6.1-py3-none-any.whl (26 kB)\n",
      "Downloading packaging-24.2-py3-none-any.whl (65 kB)\n",
      "\u001b[2K   \u001b[90m━━━━━━━━━━━━━━━━━━━━━━━━━━━━━━━━━━━━━━━━\u001b[0m \u001b[32m65.5/65.5 kB\u001b[0m \u001b[31m3.2 MB/s\u001b[0m eta \u001b[36m0:00:00\u001b[0m\n",
      "\u001b[?25hDownloading uvicorn-0.34.2-py3-none-any.whl (62 kB)\n",
      "\u001b[2K   \u001b[90m━━━━━━━━━━━━━━━━━━━━━━━━━━━━━━━━━━━━━━━━\u001b[0m \u001b[32m62.5/62.5 kB\u001b[0m \u001b[31m2.8 MB/s\u001b[0m eta \u001b[36m0:00:00\u001b[0m\n",
      "\u001b[?25hDownloading starlette-0.46.2-py3-none-any.whl (72 kB)\n",
      "\u001b[2K   \u001b[90m━━━━━━━━━━━━━━━━━━━━━━━━━━━━━━━━━━━━━━━━\u001b[0m \u001b[32m72.0/72.0 kB\u001b[0m \u001b[31m3.0 MB/s\u001b[0m eta \u001b[36m0:00:00\u001b[0m\n",
      "\u001b[?25hInstalling collected packages: uvicorn, packaging, importlib_metadata, graphql-core, starlette, gunicorn, graphql-relay, graphene, fastapi, databricks-sdk, mlflow-skinny, mlflow\n",
      "  Attempting uninstall: packaging\n",
      "    Found existing installation: packaging 25.0\n",
      "    Uninstalling packaging-25.0:\n",
      "      Successfully uninstalled packaging-25.0\n",
      "  Attempting uninstall: importlib_metadata\n",
      "    Found existing installation: importlib_metadata 8.7.0\n",
      "    Uninstalling importlib_metadata-8.7.0:\n",
      "      Successfully uninstalled importlib_metadata-8.7.0\n",
      "\u001b[31mERROR: pip's dependency resolver does not currently take into account all the packages that are installed. This behaviour is the source of the following dependency conflicts.\n",
      "datasets 3.6.0 requires fsspec[http]<=2025.3.0,>=2023.1.0, but you have fsspec 2025.3.2 which is incompatible.\n",
      "cesium 0.12.4 requires numpy<3.0,>=2.0, but you have numpy 1.26.4 which is incompatible.\n",
      "bigframes 1.42.0 requires rich<14,>=12.4.4, but you have rich 14.0.0 which is incompatible.\n",
      "plotnine 0.14.5 requires matplotlib>=3.8.0, but you have matplotlib 3.7.2 which is incompatible.\n",
      "pandas-gbq 0.28.0 requires google-api-core<3.0.0dev,>=2.10.2, but you have google-api-core 1.34.1 which is incompatible.\n",
      "mlxtend 0.23.4 requires scikit-learn>=1.3.1, but you have scikit-learn 1.2.2 which is incompatible.\u001b[0m\u001b[31m\n",
      "\u001b[0mSuccessfully installed databricks-sdk-0.53.0 fastapi-0.115.12 graphene-3.4.3 graphql-core-3.2.6 graphql-relay-3.2.0 gunicorn-23.0.0 importlib_metadata-8.6.1 mlflow-2.22.0 mlflow-skinny-2.22.0 packaging-24.2 starlette-0.46.2 uvicorn-0.34.2\n"
     ]
    }
   ],
   "source": [
    "!pip install mlflow"
   ]
  },
  {
   "cell_type": "markdown",
   "id": "1cb86229",
   "metadata": {},
   "source": [
    "# MLFLOW"
   ]
  },
  {
   "cell_type": "code",
   "execution_count": null,
   "id": "29fbc8e2",
   "metadata": {},
   "outputs": [],
   "source": [
    "import mlflow\n",
    "\n",
    "mlflow.set_tracking_uri('http://51.250.35.156:5000/')"
   ]
  },
  {
   "cell_type": "code",
   "execution_count": null,
   "id": "f133c76a",
   "metadata": {},
   "outputs": [],
   "source": [
    "mlflow.set_experiment(experiment_id='45')"
   ]
  },
  {
   "cell_type": "markdown",
   "id": "5f1d0ea0",
   "metadata": {},
   "source": [
    "# Load Data"
   ]
  },
  {
   "cell_type": "code",
   "execution_count": 2,
   "id": "f9f92c11-baa9-4d93-b895-d191cbef3e31",
   "metadata": {
    "execution": {
     "iopub.execute_input": "2025-05-16T19:32:50.523830Z",
     "iopub.status.busy": "2025-05-16T19:32:50.523447Z",
     "iopub.status.idle": "2025-05-16T19:32:50.558429Z",
     "shell.execute_reply": "2025-05-16T19:32:50.557433Z",
     "shell.execute_reply.started": "2025-05-16T19:32:50.523800Z"
    },
    "trusted": true
   },
   "outputs": [],
   "source": [
    "%load_ext autoreload\n",
    "%autoreload 2"
   ]
  },
  {
   "cell_type": "code",
   "execution_count": 3,
   "id": "0fd7da79-5e1d-4330-8379-3b8beb16acd0",
   "metadata": {
    "execution": {
     "iopub.execute_input": "2025-05-16T19:32:50.559967Z",
     "iopub.status.busy": "2025-05-16T19:32:50.559604Z",
     "iopub.status.idle": "2025-05-16T19:32:50.575751Z",
     "shell.execute_reply": "2025-05-16T19:32:50.574782Z",
     "shell.execute_reply.started": "2025-05-16T19:32:50.559935Z"
    },
    "trusted": true
   },
   "outputs": [],
   "source": [
    "# !pip install polars==1.25.2 >> _\n"
   ]
  },
  {
   "cell_type": "code",
   "execution_count": 4,
   "id": "fd0d9f09-3572-4ed8-9db6-0f1d92625c8d",
   "metadata": {
    "execution": {
     "iopub.execute_input": "2025-05-16T19:32:50.578094Z",
     "iopub.status.busy": "2025-05-16T19:32:50.577655Z",
     "iopub.status.idle": "2025-05-16T19:32:54.978151Z",
     "shell.execute_reply": "2025-05-16T19:32:54.976879Z",
     "shell.execute_reply.started": "2025-05-16T19:32:50.578067Z"
    },
    "scrolled": true,
    "trusted": true
   },
   "outputs": [],
   "source": [
    "!pip install implicit >> _\n"
   ]
  },
  {
   "cell_type": "code",
   "execution_count": 5,
   "id": "07dda6ae-5973-44ea-a2b8-1b954c1c7619",
   "metadata": {
    "execution": {
     "iopub.execute_input": "2025-05-16T19:32:54.979781Z",
     "iopub.status.busy": "2025-05-16T19:32:54.979436Z",
     "iopub.status.idle": "2025-05-16T19:32:54.998694Z",
     "shell.execute_reply": "2025-05-16T19:32:54.997385Z",
     "shell.execute_reply.started": "2025-05-16T19:32:54.979749Z"
    },
    "trusted": true
   },
   "outputs": [],
   "source": [
    "# !mkdir data"
   ]
  },
  {
   "cell_type": "code",
   "execution_count": 6,
   "id": "d11cf29c-80bb-48dd-9a5a-7a7fee340a97",
   "metadata": {
    "execution": {
     "iopub.execute_input": "2025-05-16T19:32:55.000480Z",
     "iopub.status.busy": "2025-05-16T19:32:55.000139Z",
     "iopub.status.idle": "2025-05-16T19:32:55.027600Z",
     "shell.execute_reply": "2025-05-16T19:32:55.026481Z",
     "shell.execute_reply.started": "2025-05-16T19:32:55.000444Z"
    },
    "trusted": true
   },
   "outputs": [],
   "source": [
    "# # takes 5 minutes\n",
    "# !wget https://storage.yandexcloud.net/ds-ods/files/data/docs/competitions/Avitotechcomp2025/data_competition_1/clickstream.pq -O data/clickstream.pq >> _\n",
    "# !wget https://storage.yandexcloud.net/ds-ods/files/data/docs/competitions/Avitotechcomp2025/data_competition_1/test_users.pq -O data/test_users.pq >> _\n",
    "# !wget https://storage.yandexcloud.net/ds-ods/files/data/docs/competitions/Avitotechcomp2025/data_competition_1/cat_features.pq -O data/cat_features.pq >> _\n",
    "# !wget https://storage.yandexcloud.net/ds-ods/files/data/docs/competitions/Avitotechcomp2025/data_competition_1/text_features.pq -O data/text_features.pq >> _\n",
    "# !wget https://storage.yandexcloud.net/ds-ods/files/data/docs/competitions/Avitotechcomp2025/data_competition_1/events.pq -O data/events.pq >> _\n"
   ]
  },
  {
   "cell_type": "code",
   "execution_count": 7,
   "id": "7a1164ec-f32d-4d8c-9349-e07193347639",
   "metadata": {
    "execution": {
     "iopub.execute_input": "2025-05-16T19:33:03.195945Z",
     "iopub.status.busy": "2025-05-16T19:33:03.195666Z",
     "iopub.status.idle": "2025-05-16T19:33:04.622441Z",
     "shell.execute_reply": "2025-05-16T19:33:04.621566Z",
     "shell.execute_reply.started": "2025-05-16T19:33:03.195925Z"
    },
    "trusted": true
   },
   "outputs": [],
   "source": [
    "from datetime import timedelta\n",
    "import polars as pl\n",
    "import implicit"
   ]
  },
  {
   "cell_type": "code",
   "execution_count": 8,
   "id": "11dc4c75-27b3-4cbb-a68f-98d3e7177ddd",
   "metadata": {
    "execution": {
     "iopub.execute_input": "2025-05-16T19:33:04.794243Z",
     "iopub.status.busy": "2025-05-16T19:33:04.793754Z",
     "iopub.status.idle": "2025-05-16T19:33:52.539101Z",
     "shell.execute_reply": "2025-05-16T19:33:52.538090Z",
     "shell.execute_reply.started": "2025-05-16T19:33:04.794217Z"
    },
    "trusted": true
   },
   "outputs": [],
   "source": [
    "DATA_DIR = 'archive'\n",
    "\n",
    "df_test_users = pl.read_parquet(f'{DATA_DIR}/test_users.pq')\n",
    "df_clickstream = pl.read_parquet(f'{DATA_DIR}/clickstream.pq')\n",
    "\n",
    "df_cat_features = pl.read_parquet(f'{DATA_DIR}/cat_features.pq')\n",
    "df_text_features = pl.read_parquet(f'{DATA_DIR}/text_features.pq')\n",
    "df_event = pl.read_parquet(f'{DATA_DIR}/events.pq')"
   ]
  },
  {
   "cell_type": "markdown",
   "id": "f821debd-2a22-41c3-9156-f85b3684bec6",
   "metadata": {},
   "source": [
    "# PREPARE TRAIN EVAL"
   ]
  },
  {
   "cell_type": "code",
   "execution_count": 9,
   "id": "2142656d-3dc5-4498-b90e-ec81701261b9",
   "metadata": {
    "execution": {
     "iopub.execute_input": "2025-05-16T19:41:37.167977Z",
     "iopub.status.busy": "2025-05-16T19:41:37.167604Z",
     "iopub.status.idle": "2025-05-16T19:41:37.186874Z",
     "shell.execute_reply": "2025-05-16T19:41:37.185871Z",
     "shell.execute_reply.started": "2025-05-16T19:41:37.167952Z"
    },
    "trusted": true
   },
   "outputs": [],
   "source": [
    "EVAL_DAYS_TRESHOLD = 14"
   ]
  },
  {
   "cell_type": "code",
   "execution_count": 10,
   "id": "78d6129e-81f8-4156-a360-1ebf380dbca4",
   "metadata": {
    "execution": {
     "iopub.execute_input": "2025-05-16T19:41:37.394844Z",
     "iopub.status.busy": "2025-05-16T19:41:37.394536Z",
     "iopub.status.idle": "2025-05-16T19:41:37.501199Z",
     "shell.execute_reply": "2025-05-16T19:41:37.500372Z",
     "shell.execute_reply.started": "2025-05-16T19:41:37.394823Z"
    },
    "trusted": true
   },
   "outputs": [],
   "source": [
    "treshhold = df_clickstream['event_date'].max() - timedelta(days=EVAL_DAYS_TRESHOLD)"
   ]
  },
  {
   "cell_type": "code",
   "execution_count": 11,
   "id": "cabb9561-abf4-4e34-ab3b-9d7391188b92",
   "metadata": {
    "execution": {
     "iopub.execute_input": "2025-05-16T19:41:37.534860Z",
     "iopub.status.busy": "2025-05-16T19:41:37.534546Z",
     "iopub.status.idle": "2025-05-16T19:41:39.902246Z",
     "shell.execute_reply": "2025-05-16T19:41:39.901343Z",
     "shell.execute_reply.started": "2025-05-16T19:41:37.534838Z"
    },
    "trusted": true
   },
   "outputs": [],
   "source": [
    "df_train = df_clickstream.filter(df_clickstream['event_date']<= treshhold)\n",
    "df_eval = df_clickstream.filter(df_clickstream['event_date']> treshhold)[['cookie', 'node', 'event']]"
   ]
  },
  {
   "cell_type": "code",
   "execution_count": 12,
   "id": "8484fcfb-47c7-4b3d-885b-2a691ed1e49f",
   "metadata": {
    "execution": {
     "iopub.execute_input": "2025-05-16T19:41:39.904096Z",
     "iopub.status.busy": "2025-05-16T19:41:39.903751Z",
     "iopub.status.idle": "2025-05-16T19:41:46.685780Z",
     "shell.execute_reply": "2025-05-16T19:41:46.684790Z",
     "shell.execute_reply.started": "2025-05-16T19:41:39.904067Z"
    },
    "trusted": true
   },
   "outputs": [],
   "source": [
    "df_eval = df_eval.join(df_train, on=['cookie', 'node'], how='anti')\n"
   ]
  },
  {
   "cell_type": "code",
   "execution_count": 13,
   "id": "d2995b20-2896-4fb5-8f71-3e7a01ca3d8b",
   "metadata": {
    "execution": {
     "iopub.execute_input": "2025-05-16T19:41:51.013134Z",
     "iopub.status.busy": "2025-05-16T19:41:51.012822Z",
     "iopub.status.idle": "2025-05-16T19:41:51.167168Z",
     "shell.execute_reply": "2025-05-16T19:41:51.166262Z",
     "shell.execute_reply.started": "2025-05-16T19:41:51.013105Z"
    },
    "trusted": true
   },
   "outputs": [],
   "source": [
    "df_eval = df_eval.filter(\n",
    "    pl.col('event').is_in(\n",
    "        df_event.filter(pl.col('is_contact')==1)['event'].unique()\n",
    "    )\n",
    ")"
   ]
  },
  {
   "cell_type": "code",
   "execution_count": 14,
   "id": "03053625-f774-4a3f-b093-0328aeb18e87",
   "metadata": {
    "execution": {
     "iopub.execute_input": "2025-05-16T19:41:51.168657Z",
     "iopub.status.busy": "2025-05-16T19:41:51.168386Z",
     "iopub.status.idle": "2025-05-16T19:41:52.834389Z",
     "shell.execute_reply": "2025-05-16T19:41:52.833405Z",
     "shell.execute_reply.started": "2025-05-16T19:41:51.168638Z"
    },
    "trusted": true
   },
   "outputs": [],
   "source": [
    "df_eval = df_eval.filter(\n",
    "        pl.col('cookie').is_in(df_train['cookie'].unique())\n",
    "    ).filter(\n",
    "        pl.col('node').is_in(df_train['node'].unique())\n",
    "    )"
   ]
  },
  {
   "cell_type": "code",
   "execution_count": 15,
   "id": "1e938184-194e-469d-be17-043b0c0ad5ed",
   "metadata": {
    "execution": {
     "iopub.execute_input": "2025-05-16T19:41:52.836020Z",
     "iopub.status.busy": "2025-05-16T19:41:52.835694Z",
     "iopub.status.idle": "2025-05-16T19:41:52.877558Z",
     "shell.execute_reply": "2025-05-16T19:41:52.876656Z",
     "shell.execute_reply.started": "2025-05-16T19:41:52.835991Z"
    },
    "trusted": true
   },
   "outputs": [],
   "source": [
    "df_eval = df_eval.unique(['cookie', 'node'])"
   ]
  },
  {
   "cell_type": "markdown",
   "id": "7db32b36-9ec3-47ed-bbc1-0b395c350cf7",
   "metadata": {},
   "source": [
    "# ALS"
   ]
  },
  {
   "cell_type": "code",
   "execution_count": 16,
   "id": "118b73e6-c306-4ab8-8ae5-3f133a95cda5",
   "metadata": {
    "execution": {
     "iopub.execute_input": "2025-05-16T19:41:53.029786Z",
     "iopub.status.busy": "2025-05-16T19:41:53.029474Z",
     "iopub.status.idle": "2025-05-16T19:41:53.051378Z",
     "shell.execute_reply": "2025-05-16T19:41:53.050366Z",
     "shell.execute_reply.started": "2025-05-16T19:41:53.029765Z"
    },
    "trusted": true
   },
   "outputs": [],
   "source": [
    "def get_als_pred(users, nodes, user_to_pred, model):\n",
    "    user_ids = users.unique().to_list()\n",
    "    item_ids = nodes.unique().to_list()\n",
    "        \n",
    "    user_id_to_index = {user_id: idx for idx, user_id in enumerate(user_ids)}\n",
    "    item_id_to_index = {item_id: idx for idx, item_id in enumerate(item_ids)}\n",
    "    index_to_item_id = {v:k for k,v in item_id_to_index.items()}\n",
    "    \n",
    "    rows = users.replace_strict(user_id_to_index).to_list()\n",
    "    cols = nodes.replace_strict(item_id_to_index).to_list()\n",
    "    \n",
    "    values = [1] * len(users)\n",
    "    \n",
    "    sparse_matrix = csr_matrix((values, (rows, cols)), shape=(len(user_ids), len(item_ids)))\n",
    "    \n",
    "    # model = implicit.als.AlternatingLeastSquares(iterations=10, factors=60)\n",
    "    model.fit(sparse_matrix, )\n",
    "    \n",
    "    \n",
    "    user4pred = np.array([user_id_to_index[i] for i in user_to_pred])\n",
    "    \n",
    "    recommendations, scores = model.recommend(user4pred, sparse_matrix[user4pred], N=40, filter_already_liked_items=True)\n",
    "    \n",
    "    df_pred = pl.DataFrame(\n",
    "        {\n",
    "            'node': [\n",
    "                [index_to_item_id[i] for i in i] for i in recommendations.tolist()\n",
    "            ], \n",
    "             'cookie': list(user_to_pred),\n",
    "            'scores': scores.tolist()\n",
    "            \n",
    "        }\n",
    "    )\n",
    "    df_pred = df_pred.explode(['node', 'scores'])\n",
    "    return df_pred"
   ]
  },
  {
   "cell_type": "code",
   "execution_count": 17,
   "id": "06be5533-20dc-4b45-a7b6-0ab9b273951e",
   "metadata": {
    "execution": {
     "iopub.execute_input": "2025-05-16T19:41:56.519422Z",
     "iopub.status.busy": "2025-05-16T19:41:56.519102Z",
     "iopub.status.idle": "2025-05-16T19:41:56.539311Z",
     "shell.execute_reply": "2025-05-16T19:41:56.538245Z",
     "shell.execute_reply.started": "2025-05-16T19:41:56.519397Z"
    },
    "trusted": true
   },
   "outputs": [],
   "source": [
    "def get_params_als(model):\n",
    "    params = {'als_factors': model.factors, 'als_regularization': model.regularization, \n",
    "              'als_alpha': model.alpha, 'als_dtype': model.dtype, 'als_use_native': model.use_native,\n",
    "              'als_use_cg': model.use_cg,'als_terations': model.iterations, 'als_random_state': model.random_state}\n",
    "    return params"
   ]
  },
  {
   "cell_type": "code",
   "execution_count": 22,
   "id": "7ec48ba7-af95-49a4-a8e3-f9d24e9a5b2d",
   "metadata": {
    "execution": {
     "iopub.execute_input": "2025-05-16T19:48:43.134473Z",
     "iopub.status.busy": "2025-05-16T19:48:43.134075Z",
     "iopub.status.idle": "2025-05-16T19:52:46.766514Z",
     "shell.execute_reply": "2025-05-16T19:52:46.765420Z",
     "shell.execute_reply.started": "2025-05-16T19:48:43.134445Z"
    },
    "scrolled": true,
    "trusted": true
   },
   "outputs": [
    {
     "data": {
      "application/vnd.jupyter.widget-view+json": {
       "model_id": "e6b2f0754cb54a2a8d069f9d9e1ebab1",
       "version_major": 2,
       "version_minor": 0
      },
      "text/plain": [
       "  0%|          | 0/15 [00:01<?, ?it/s]"
      ]
     },
     "metadata": {},
     "output_type": "display_data"
    }
   ],
   "source": [
    "from scipy.sparse import csr_matrix\n",
    "import numpy as np\n",
    "import implicit\n",
    "\n",
    "\n",
    "users = df_train[\"cookie\"]\n",
    "nodes = df_train[\"node\"]\n",
    "eval_users = df_eval['cookie'].unique().to_list()\n",
    "\n",
    "model = implicit.als.AlternatingLeastSquares(\n",
    "    factors=180,\n",
    "    regularization=0.12423506398,\n",
    "    alpha=3.5323,\n",
    "    dtype=np.float32,\n",
    "    use_native=True,\n",
    "    use_cg=True,\n",
    "    iterations=15,\n",
    ")\n",
    "\n",
    "df_pred = get_als_pred(users, nodes,eval_users, model)\n",
    "\n",
    "# recall_at(df_eval, df_pred, k=40)"
   ]
  },
  {
   "cell_type": "markdown",
   "id": "20e5d1dd-9eb8-4e46-8c87-b70ab3e50edb",
   "metadata": {},
   "source": [
    "# CALC EVAL METRICS"
   ]
  },
  {
   "cell_type": "code",
   "execution_count": 23,
   "id": "f67325eb-6ce3-41f2-b61b-4dfdd9bcab26",
   "metadata": {
    "execution": {
     "iopub.execute_input": "2025-05-16T19:52:46.768183Z",
     "iopub.status.busy": "2025-05-16T19:52:46.767899Z",
     "iopub.status.idle": "2025-05-16T19:52:46.788593Z",
     "shell.execute_reply": "2025-05-16T19:52:46.787643Z",
     "shell.execute_reply.started": "2025-05-16T19:52:46.768155Z"
    },
    "trusted": true
   },
   "outputs": [],
   "source": [
    "def recall_at(df_true, df_pred, k=40):\n",
    "    return  df_true[['node', 'cookie']].join(\n",
    "        df_pred.group_by('cookie').head(k).with_columns(value=1)[['node', 'cookie', 'value']], \n",
    "        how='left',\n",
    "        on = ['cookie', 'node']\n",
    "    ).select(\n",
    "        [pl.col('value').fill_null(0), 'cookie']\n",
    "    ).group_by(\n",
    "        'cookie'\n",
    "    ).agg(\n",
    "        [\n",
    "            pl.col('value').sum()/pl.col(\n",
    "                'value'\n",
    "            ).count()\n",
    "        ]\n",
    "    )['value'].mean()\n"
   ]
  },
  {
   "cell_type": "code",
   "execution_count": 24,
   "id": "3fdab6aa-249c-4621-ad7e-c97467837b65",
   "metadata": {
    "execution": {
     "iopub.execute_input": "2025-05-16T19:52:46.789801Z",
     "iopub.status.busy": "2025-05-16T19:52:46.789504Z",
     "iopub.status.idle": "2025-05-16T19:52:47.741834Z",
     "shell.execute_reply": "2025-05-16T19:52:47.738611Z",
     "shell.execute_reply.started": "2025-05-16T19:52:46.789781Z"
    },
    "trusted": true
   },
   "outputs": [
    {
     "data": {
      "text/plain": [
       "0.15552829894825254"
      ]
     },
     "execution_count": 24,
     "metadata": {},
     "output_type": "execute_result"
    }
   ],
   "source": [
    "recall_at(df_eval, df_pred, k=40)"
   ]
  },
  {
   "cell_type": "markdown",
   "id": "14ac5587-6b6c-4d99-bf29-40347c573b1f",
   "metadata": {},
   "source": [
    "# baseline"
   ]
  },
  {
   "cell_type": "code",
   "execution_count": 51,
   "id": "e76aa923-bf38-45f8-9132-ac47642d4804",
   "metadata": {
    "execution": {
     "iopub.execute_input": "2025-05-16T20:33:31.795605Z",
     "iopub.status.busy": "2025-05-16T20:33:31.795231Z",
     "iopub.status.idle": "2025-05-16T20:33:32.182350Z",
     "shell.execute_reply": "2025-05-16T20:33:32.181568Z",
     "shell.execute_reply.started": "2025-05-16T20:33:31.795579Z"
    },
    "trusted": true
   },
   "outputs": [
    {
     "data": {
      "text/plain": [
       "0.1517838724413563"
      ]
     },
     "execution_count": 51,
     "metadata": {},
     "output_type": "execute_result"
    }
   ],
   "source": [
    "model_baseline = implicit.als.AlternatingLeastSquares(\n",
    "    factors=60,\n",
    "    iterations=10,\n",
    ")\n",
    "\n",
    "df_pred_baseline = get_als_pred(users, nodes,eval_users, model_baseline)\n",
    "\n",
    "recall_at(df_eval, df_pred_baseline, k=40)"
   ]
  },
  {
   "cell_type": "markdown",
   "id": "65f359fa-2ec7-46ec-9bfc-406b7753e436",
   "metadata": {},
   "source": [
    "# OPTUNA OPTIMIZATION"
   ]
  },
  {
   "cell_type": "code",
   "execution_count": 28,
   "id": "593b0337-454c-450f-b477-34248fae2977",
   "metadata": {
    "execution": {
     "iopub.execute_input": "2025-05-16T18:09:06.644680Z",
     "iopub.status.busy": "2025-05-16T18:09:06.644190Z",
     "iopub.status.idle": "2025-05-16T18:09:07.046953Z",
     "shell.execute_reply": "2025-05-16T18:09:07.045691Z",
     "shell.execute_reply.started": "2025-05-16T18:09:06.644650Z"
    },
    "trusted": true
   },
   "outputs": [],
   "source": [
    "import optuna"
   ]
  },
  {
   "cell_type": "code",
   "execution_count": 29,
   "id": "ff20de75-bcce-4a53-a75c-a5b6bcb4d6a2",
   "metadata": {
    "execution": {
     "iopub.execute_input": "2025-05-16T18:09:07.267030Z",
     "iopub.status.busy": "2025-05-16T18:09:07.266707Z",
     "iopub.status.idle": "2025-05-16T18:09:07.310383Z",
     "shell.execute_reply": "2025-05-16T18:09:07.309315Z",
     "shell.execute_reply.started": "2025-05-16T18:09:07.267006Z"
    },
    "trusted": true
   },
   "outputs": [],
   "source": [
    "users = df_train[\"cookie\"]\n",
    "nodes = df_train[\"node\"]\n",
    "user_to_pred = df_eval['cookie'].unique().to_list()"
   ]
  },
  {
   "cell_type": "code",
   "execution_count": 30,
   "id": "a9bca64e-fc88-43f7-b6c1-7b0514cbdbe6",
   "metadata": {
    "execution": {
     "iopub.execute_input": "2025-05-16T18:09:07.676199Z",
     "iopub.status.busy": "2025-05-16T18:09:07.675870Z",
     "iopub.status.idle": "2025-05-16T18:09:07.718295Z",
     "shell.execute_reply": "2025-05-16T18:09:07.717114Z",
     "shell.execute_reply.started": "2025-05-16T18:09:07.676175Z"
    },
    "trusted": true
   },
   "outputs": [],
   "source": [
    "def get_als_pred_optuna(\n",
    "        users, nodes, user_to_pred,\n",
    "        factors,\n",
    "        regularization,\n",
    "        alpha,\n",
    "        iterations,\n",
    "        use_native,\n",
    "        use_cg,\n",
    "        dtype\n",
    "):\n",
    "    user_ids = users.unique().to_list()\n",
    "    item_ids = nodes.unique().to_list()\n",
    "        \n",
    "    user_id_to_index = {user_id: idx for idx, user_id in enumerate(user_ids)}\n",
    "    item_id_to_index = {item_id: idx for idx, item_id in enumerate(item_ids)}\n",
    "    index_to_item_id = {v:k for k,v in item_id_to_index.items()}\n",
    "    \n",
    "    rows = users.replace_strict(user_id_to_index).to_list()\n",
    "    cols = nodes.replace_strict(item_id_to_index).to_list()\n",
    "    \n",
    "    values = [1] * len(users)\n",
    "    \n",
    "    sparse_matrix = csr_matrix((values, (rows, cols)), shape=(len(user_ids), len(item_ids)))\n",
    "    \n",
    "    model = implicit.als.AlternatingLeastSquares(\n",
    "        factors=factors,\n",
    "        regularization=regularization,\n",
    "        alpha=alpha,\n",
    "        iterations=iterations,\n",
    "        use_native=use_native,\n",
    "        use_cg=use_cg,\n",
    "        dtype=dtype\n",
    "    )\n",
    "    model.fit(sparse_matrix, )\n",
    "    \n",
    "    \n",
    "    user4pred = np.array([user_id_to_index[i] for i in user_to_pred])\n",
    "    \n",
    "    recommendations, scores = model.recommend(user4pred, sparse_matrix[user4pred], N=40, filter_already_liked_items=True)\n",
    "    \n",
    "    df_pred = pl.DataFrame(\n",
    "        {\n",
    "            'node': [\n",
    "                [index_to_item_id[i] for i in i] for i in recommendations.tolist()\n",
    "            ], \n",
    "             'cookie': list(user_to_pred),\n",
    "            'scores': scores.tolist()\n",
    "            \n",
    "        }\n",
    "    )\n",
    "    df_pred = df_pred.explode(['node', 'scores'])\n",
    "    return df_pred, model"
   ]
  },
  {
   "cell_type": "code",
   "execution_count": 31,
   "id": "96477e8b-6a41-4bce-8709-ef739f27b6ea",
   "metadata": {
    "execution": {
     "iopub.execute_input": "2025-05-16T18:09:10.200337Z",
     "iopub.status.busy": "2025-05-16T18:09:10.199793Z",
     "iopub.status.idle": "2025-05-16T18:09:10.254928Z",
     "shell.execute_reply": "2025-05-16T18:09:10.253503Z",
     "shell.execute_reply.started": "2025-05-16T18:09:10.200289Z"
    },
    "trusted": true
   },
   "outputs": [],
   "source": [
    "def objective(trial):\n",
    "    # Основные гиперпараметры ALS\n",
    "    factors = trial.suggest_int(\"als_factors\", 100, 120)\n",
    "    regularization = trial.suggest_float(\"als_regularization\", 1e-1, 1e1, log=True)\n",
    "    alpha = trial.suggest_float(\"als_alpha\", 5.0, 10.0, log=True)\n",
    "    iterations = trial.suggest_int(\"als_iterations\", 10, 15)\n",
    "\n",
    "    # Реализация и прочие параметры\n",
    "    dtype = trial.suggest_categorical(\"als_dtype\", [np.float32, np.float64])\n",
    "    use_native = trial.suggest_categorical(\"als_use_native\", [True, False])\n",
    "    use_cg = trial.suggest_categorical(\"als_use_cg\", [True, False])\n",
    "    # random_state = trial.suggest_int(\"als_random_state\", 1, 9999)\n",
    "\n",
    "    df_pred, model = get_als_pred_optuna(\n",
    "        users, nodes, user_to_pred,\n",
    "        factors=factors,\n",
    "        regularization=regularization,\n",
    "        alpha=alpha,\n",
    "        iterations=iterations,\n",
    "        use_native=use_native,\n",
    "        use_cg=use_cg,\n",
    "        dtype=dtype\n",
    "    )\n",
    "\n",
    "    score = recall_at(df_eval, df_pred, k=40)\n",
    "\n",
    "    # сохраним параметры в trial.user_attrs\n",
    "    trial.set_user_attr(\"params\", {\n",
    "        'als_factors': model.factors,\n",
    "        'als_regularization': model.regularization,\n",
    "        'als_alpha': alpha,\n",
    "        'als_dtype': model.dtype,\n",
    "        'als_use_native': model.use_native,\n",
    "        'als_use_cg': model.use_cg,\n",
    "        'als_iterations': model.iterations,\n",
    "        'als_random_state': model.random_state\n",
    "    })\n",
    "\n",
    "    return score"
   ]
  },
  {
   "cell_type": "code",
   "execution_count": 19,
   "id": "19d8bd6a-8c2a-49d1-ae1c-2cc2b0fc08d4",
   "metadata": {
    "execution": {
     "iopub.execute_input": "2025-05-16T19:47:55.457760Z",
     "iopub.status.busy": "2025-05-16T19:47:55.457404Z",
     "iopub.status.idle": "2025-05-16T19:47:55.476200Z",
     "shell.execute_reply": "2025-05-16T19:47:55.475152Z",
     "shell.execute_reply.started": "2025-05-16T19:47:55.457736Z"
    },
    "trusted": true
   },
   "outputs": [],
   "source": [
    "# it takes to much cpu memmory and to much time"
   ]
  },
  {
   "cell_type": "code",
   "execution_count": 32,
   "id": "f5801cbe-2df2-4072-b9e4-24f5d9492ac8",
   "metadata": {
    "collapsed": true,
    "execution": {
     "iopub.execute_input": "2025-05-16T18:09:12.705071Z",
     "iopub.status.busy": "2025-05-16T18:09:12.704769Z",
     "iopub.status.idle": "2025-05-16T18:25:25.460825Z",
     "shell.execute_reply": "2025-05-16T18:25:25.458751Z",
     "shell.execute_reply.started": "2025-05-16T18:09:12.705051Z"
    },
    "jupyter": {
     "outputs_hidden": true
    },
    "trusted": true
   },
   "outputs": [
    {
     "name": "stderr",
     "output_type": "stream",
     "text": [
      "[I 2025-05-16 18:09:12,736] A new study created in memory with name: no-name-5579d1cf-ef5a-4d48-b697-cd5e4f11bf42\n",
      "/usr/local/lib/python3.11/dist-packages/optuna/distributions.py:515: UserWarning: Choices for a categorical distribution should be a tuple of None, bool, int, float and str for persistent storage but contains <class 'numpy.float32'> which is of type type.\n",
      "  warnings.warn(message)\n",
      "/usr/local/lib/python3.11/dist-packages/optuna/distributions.py:515: UserWarning: Choices for a categorical distribution should be a tuple of None, bool, int, float and str for persistent storage but contains <class 'numpy.float64'> which is of type type.\n",
      "  warnings.warn(message)\n"
     ]
    },
    {
     "data": {
      "application/vnd.jupyter.widget-view+json": {
       "model_id": "fe98136588744e898de2cd4b9d5e69fb",
       "version_major": 2,
       "version_minor": 0
      },
      "text/plain": [
       "  0%|          | 0/10 [00:01<?, ?it/s]"
      ]
     },
     "metadata": {},
     "output_type": "display_data"
    },
    {
     "name": "stderr",
     "output_type": "stream",
     "text": [
      "[I 2025-05-16 18:11:54,124] Trial 0 finished with value: 0.15656242876459536 and parameters: {'als_factors': 100, 'als_regularization': 2.2547266593601476, 'als_alpha': 5.890851347827647, 'als_iterations': 10, 'als_dtype': <class 'numpy.float32'>, 'als_use_native': True, 'als_use_cg': True}. Best is trial 0 with value: 0.15656242876459536.\n"
     ]
    },
    {
     "data": {
      "application/vnd.jupyter.widget-view+json": {
       "model_id": "15dc2afae7c24eb2ab93e96ce95c498b",
       "version_major": 2,
       "version_minor": 0
      },
      "text/plain": [
       "  0%|          | 0/14 [00:00<?, ?it/s]"
      ]
     },
     "metadata": {},
     "output_type": "display_data"
    },
    {
     "name": "stderr",
     "output_type": "stream",
     "text": [
      "[I 2025-05-16 18:16:22,287] Trial 1 finished with value: 0.15667660752896295 and parameters: {'als_factors': 108, 'als_regularization': 0.3320243092355322, 'als_alpha': 7.966318488604583, 'als_iterations': 14, 'als_dtype': <class 'numpy.float64'>, 'als_use_native': True, 'als_use_cg': True}. Best is trial 1 with value: 0.15667660752896295.\n"
     ]
    },
    {
     "data": {
      "application/vnd.jupyter.widget-view+json": {
       "model_id": "4508b5fd920a4a648fd1345777f521e0",
       "version_major": 2,
       "version_minor": 0
      },
      "text/plain": [
       "  0%|          | 0/14 [00:00<?, ?it/s]"
      ]
     },
     "metadata": {},
     "output_type": "display_data"
    },
    {
     "name": "stderr",
     "output_type": "stream",
     "text": [
      "[W 2025-05-16 18:25:25,344] Trial 2 failed with parameters: {'als_factors': 118, 'als_regularization': 0.4511716802105419, 'als_alpha': 6.393905811442937, 'als_iterations': 14, 'als_dtype': <class 'numpy.float32'>, 'als_use_native': False, 'als_use_cg': False} because of the following error: KeyboardInterrupt().\n",
      "Traceback (most recent call last):\n",
      "  File \"/usr/local/lib/python3.11/dist-packages/optuna/study/_optimize.py\", line 197, in _run_trial\n",
      "    value_or_values = func(trial)\n",
      "                      ^^^^^^^^^^^\n",
      "  File \"/tmp/ipykernel_35/1932749649.py\", line 14, in objective\n",
      "    df_pred, model = get_als_pred_optuna(\n",
      "                     ^^^^^^^^^^^^^^^^^^^^\n",
      "  File \"/tmp/ipykernel_35/3794598097.py\", line 34, in get_als_pred_optuna\n",
      "    model.fit(sparse_matrix, )\n",
      "  File \"/usr/local/lib/python3.11/dist-packages/implicit/cpu/als.py\", line 163, in fit\n",
      "    solver(\n",
      "  File \"/usr/local/lib/python3.11/dist-packages/implicit/cpu/als.py\", line 490, in least_squares\n",
      "    X[u] = user_factor(Y, YtY, Cui, u, regularization, n_factors)\n",
      "           ^^^^^^^^^^^^^^^^^^^^^^^^^^^^^^^^^^^^^^^^^^^^^^^^^^^^^^\n",
      "  File \"/usr/local/lib/python3.11/dist-packages/implicit/cpu/als.py\", line 517, in user_factor\n",
      "    A, b = user_linear_equation(Y, YtY, Cui, u, regularization, n_factors)\n",
      "           ^^^^^^^^^^^^^^^^^^^^^^^^^^^^^^^^^^^^^^^^^^^^^^^^^^^^^^^^^^^^^^^\n",
      "  File \"/usr/local/lib/python3.11/dist-packages/implicit/cpu/als.py\", line 511, in user_linear_equation\n",
      "    A += (confidence - 1) * np.outer(factor, factor)\n",
      "                            ^^^^^^^^^^^^^^^^^^^^^^^^\n",
      "  File \"/usr/local/lib/python3.11/dist-packages/numpy/core/numeric.py\", line 837, in _outer_dispatcher\n",
      "    def _outer_dispatcher(a, b, out=None):\n",
      "    \n",
      "KeyboardInterrupt\n",
      "[W 2025-05-16 18:25:25,351] Trial 2 failed with value None.\n"
     ]
    },
    {
     "ename": "KeyboardInterrupt",
     "evalue": "",
     "output_type": "error",
     "traceback": [
      "\u001b[0;31m---------------------------------------------------------------------------\u001b[0m",
      "\u001b[0;31mKeyboardInterrupt\u001b[0m                         Traceback (most recent call last)",
      "\u001b[0;32m/tmp/ipykernel_35/2645611776.py\u001b[0m in \u001b[0;36m<cell line: 0>\u001b[0;34m()\u001b[0m\n\u001b[1;32m      1\u001b[0m \u001b[0mstudy\u001b[0m \u001b[0;34m=\u001b[0m \u001b[0moptuna\u001b[0m\u001b[0;34m.\u001b[0m\u001b[0mcreate_study\u001b[0m\u001b[0;34m(\u001b[0m\u001b[0mdirection\u001b[0m\u001b[0;34m=\u001b[0m\u001b[0;34m\"maximize\"\u001b[0m\u001b[0;34m)\u001b[0m\u001b[0;34m\u001b[0m\u001b[0;34m\u001b[0m\u001b[0m\n\u001b[0;32m----> 2\u001b[0;31m \u001b[0mstudy\u001b[0m\u001b[0;34m.\u001b[0m\u001b[0moptimize\u001b[0m\u001b[0;34m(\u001b[0m\u001b[0mobjective\u001b[0m\u001b[0;34m,\u001b[0m \u001b[0mn_trials\u001b[0m\u001b[0;34m=\u001b[0m\u001b[0;36m5\u001b[0m\u001b[0;34m)\u001b[0m\u001b[0;34m\u001b[0m\u001b[0;34m\u001b[0m\u001b[0m\n\u001b[0m\u001b[1;32m      3\u001b[0m \u001b[0;34m\u001b[0m\u001b[0m\n\u001b[1;32m      4\u001b[0m \u001b[0mprint\u001b[0m\u001b[0;34m(\u001b[0m\u001b[0;34m\"Best recall@40:\"\u001b[0m\u001b[0;34m,\u001b[0m \u001b[0mstudy\u001b[0m\u001b[0;34m.\u001b[0m\u001b[0mbest_value\u001b[0m\u001b[0;34m)\u001b[0m\u001b[0;34m\u001b[0m\u001b[0;34m\u001b[0m\u001b[0m\n\u001b[1;32m      5\u001b[0m \u001b[0mprint\u001b[0m\u001b[0;34m(\u001b[0m\u001b[0;34m\"Best ALS params:\"\u001b[0m\u001b[0;34m)\u001b[0m\u001b[0;34m\u001b[0m\u001b[0;34m\u001b[0m\u001b[0m\n",
      "\u001b[0;32m/usr/local/lib/python3.11/dist-packages/optuna/study/study.py\u001b[0m in \u001b[0;36moptimize\u001b[0;34m(self, func, n_trials, timeout, n_jobs, catch, callbacks, gc_after_trial, show_progress_bar)\u001b[0m\n\u001b[1;32m    473\u001b[0m                 \u001b[0mIf\u001b[0m \u001b[0mnested\u001b[0m \u001b[0minvocation\u001b[0m \u001b[0mof\u001b[0m \u001b[0mthis\u001b[0m \u001b[0mmethod\u001b[0m \u001b[0moccurs\u001b[0m\u001b[0;34m.\u001b[0m\u001b[0;34m\u001b[0m\u001b[0;34m\u001b[0m\u001b[0m\n\u001b[1;32m    474\u001b[0m         \"\"\"\n\u001b[0;32m--> 475\u001b[0;31m         _optimize(\n\u001b[0m\u001b[1;32m    476\u001b[0m             \u001b[0mstudy\u001b[0m\u001b[0;34m=\u001b[0m\u001b[0mself\u001b[0m\u001b[0;34m,\u001b[0m\u001b[0;34m\u001b[0m\u001b[0;34m\u001b[0m\u001b[0m\n\u001b[1;32m    477\u001b[0m             \u001b[0mfunc\u001b[0m\u001b[0;34m=\u001b[0m\u001b[0mfunc\u001b[0m\u001b[0;34m,\u001b[0m\u001b[0;34m\u001b[0m\u001b[0;34m\u001b[0m\u001b[0m\n",
      "\u001b[0;32m/usr/local/lib/python3.11/dist-packages/optuna/study/_optimize.py\u001b[0m in \u001b[0;36m_optimize\u001b[0;34m(study, func, n_trials, timeout, n_jobs, catch, callbacks, gc_after_trial, show_progress_bar)\u001b[0m\n\u001b[1;32m     61\u001b[0m     \u001b[0;32mtry\u001b[0m\u001b[0;34m:\u001b[0m\u001b[0;34m\u001b[0m\u001b[0;34m\u001b[0m\u001b[0m\n\u001b[1;32m     62\u001b[0m         \u001b[0;32mif\u001b[0m \u001b[0mn_jobs\u001b[0m \u001b[0;34m==\u001b[0m \u001b[0;36m1\u001b[0m\u001b[0;34m:\u001b[0m\u001b[0;34m\u001b[0m\u001b[0;34m\u001b[0m\u001b[0m\n\u001b[0;32m---> 63\u001b[0;31m             _optimize_sequential(\n\u001b[0m\u001b[1;32m     64\u001b[0m                 \u001b[0mstudy\u001b[0m\u001b[0;34m,\u001b[0m\u001b[0;34m\u001b[0m\u001b[0;34m\u001b[0m\u001b[0m\n\u001b[1;32m     65\u001b[0m                 \u001b[0mfunc\u001b[0m\u001b[0;34m,\u001b[0m\u001b[0;34m\u001b[0m\u001b[0;34m\u001b[0m\u001b[0m\n",
      "\u001b[0;32m/usr/local/lib/python3.11/dist-packages/optuna/study/_optimize.py\u001b[0m in \u001b[0;36m_optimize_sequential\u001b[0;34m(study, func, n_trials, timeout, catch, callbacks, gc_after_trial, reseed_sampler_rng, time_start, progress_bar)\u001b[0m\n\u001b[1;32m    158\u001b[0m \u001b[0;34m\u001b[0m\u001b[0m\n\u001b[1;32m    159\u001b[0m         \u001b[0;32mtry\u001b[0m\u001b[0;34m:\u001b[0m\u001b[0;34m\u001b[0m\u001b[0;34m\u001b[0m\u001b[0m\n\u001b[0;32m--> 160\u001b[0;31m             \u001b[0mfrozen_trial\u001b[0m \u001b[0;34m=\u001b[0m \u001b[0m_run_trial\u001b[0m\u001b[0;34m(\u001b[0m\u001b[0mstudy\u001b[0m\u001b[0;34m,\u001b[0m \u001b[0mfunc\u001b[0m\u001b[0;34m,\u001b[0m \u001b[0mcatch\u001b[0m\u001b[0;34m)\u001b[0m\u001b[0;34m\u001b[0m\u001b[0;34m\u001b[0m\u001b[0m\n\u001b[0m\u001b[1;32m    161\u001b[0m         \u001b[0;32mfinally\u001b[0m\u001b[0;34m:\u001b[0m\u001b[0;34m\u001b[0m\u001b[0;34m\u001b[0m\u001b[0m\n\u001b[1;32m    162\u001b[0m             \u001b[0;31m# The following line mitigates memory problems that can be occurred in some\u001b[0m\u001b[0;34m\u001b[0m\u001b[0;34m\u001b[0m\u001b[0m\n",
      "\u001b[0;32m/usr/local/lib/python3.11/dist-packages/optuna/study/_optimize.py\u001b[0m in \u001b[0;36m_run_trial\u001b[0;34m(study, func, catch)\u001b[0m\n\u001b[1;32m    246\u001b[0m         \u001b[0;32mand\u001b[0m \u001b[0;32mnot\u001b[0m \u001b[0misinstance\u001b[0m\u001b[0;34m(\u001b[0m\u001b[0mfunc_err\u001b[0m\u001b[0;34m,\u001b[0m \u001b[0mcatch\u001b[0m\u001b[0;34m)\u001b[0m\u001b[0;34m\u001b[0m\u001b[0;34m\u001b[0m\u001b[0m\n\u001b[1;32m    247\u001b[0m     ):\n\u001b[0;32m--> 248\u001b[0;31m         \u001b[0;32mraise\u001b[0m \u001b[0mfunc_err\u001b[0m\u001b[0;34m\u001b[0m\u001b[0;34m\u001b[0m\u001b[0m\n\u001b[0m\u001b[1;32m    249\u001b[0m     \u001b[0;32mreturn\u001b[0m \u001b[0mfrozen_trial\u001b[0m\u001b[0;34m\u001b[0m\u001b[0;34m\u001b[0m\u001b[0m\n\u001b[1;32m    250\u001b[0m \u001b[0;34m\u001b[0m\u001b[0m\n",
      "\u001b[0;32m/usr/local/lib/python3.11/dist-packages/optuna/study/_optimize.py\u001b[0m in \u001b[0;36m_run_trial\u001b[0;34m(study, func, catch)\u001b[0m\n\u001b[1;32m    195\u001b[0m     \u001b[0;32mwith\u001b[0m \u001b[0mget_heartbeat_thread\u001b[0m\u001b[0;34m(\u001b[0m\u001b[0mtrial\u001b[0m\u001b[0;34m.\u001b[0m\u001b[0m_trial_id\u001b[0m\u001b[0;34m,\u001b[0m \u001b[0mstudy\u001b[0m\u001b[0;34m.\u001b[0m\u001b[0m_storage\u001b[0m\u001b[0;34m)\u001b[0m\u001b[0;34m:\u001b[0m\u001b[0;34m\u001b[0m\u001b[0;34m\u001b[0m\u001b[0m\n\u001b[1;32m    196\u001b[0m         \u001b[0;32mtry\u001b[0m\u001b[0;34m:\u001b[0m\u001b[0;34m\u001b[0m\u001b[0;34m\u001b[0m\u001b[0m\n\u001b[0;32m--> 197\u001b[0;31m             \u001b[0mvalue_or_values\u001b[0m \u001b[0;34m=\u001b[0m \u001b[0mfunc\u001b[0m\u001b[0;34m(\u001b[0m\u001b[0mtrial\u001b[0m\u001b[0;34m)\u001b[0m\u001b[0;34m\u001b[0m\u001b[0;34m\u001b[0m\u001b[0m\n\u001b[0m\u001b[1;32m    198\u001b[0m         \u001b[0;32mexcept\u001b[0m \u001b[0mexceptions\u001b[0m\u001b[0;34m.\u001b[0m\u001b[0mTrialPruned\u001b[0m \u001b[0;32mas\u001b[0m \u001b[0me\u001b[0m\u001b[0;34m:\u001b[0m\u001b[0;34m\u001b[0m\u001b[0;34m\u001b[0m\u001b[0m\n\u001b[1;32m    199\u001b[0m             \u001b[0;31m# TODO(mamu): Handle multi-objective cases.\u001b[0m\u001b[0;34m\u001b[0m\u001b[0;34m\u001b[0m\u001b[0m\n",
      "\u001b[0;32m/tmp/ipykernel_35/1932749649.py\u001b[0m in \u001b[0;36mobjective\u001b[0;34m(trial)\u001b[0m\n\u001b[1;32m     12\u001b[0m     \u001b[0;31m# random_state = trial.suggest_int(\"als_random_state\", 1, 9999)\u001b[0m\u001b[0;34m\u001b[0m\u001b[0;34m\u001b[0m\u001b[0m\n\u001b[1;32m     13\u001b[0m \u001b[0;34m\u001b[0m\u001b[0m\n\u001b[0;32m---> 14\u001b[0;31m     df_pred, model = get_als_pred_optuna(\n\u001b[0m\u001b[1;32m     15\u001b[0m         \u001b[0musers\u001b[0m\u001b[0;34m,\u001b[0m \u001b[0mnodes\u001b[0m\u001b[0;34m,\u001b[0m \u001b[0muser_to_pred\u001b[0m\u001b[0;34m,\u001b[0m\u001b[0;34m\u001b[0m\u001b[0;34m\u001b[0m\u001b[0m\n\u001b[1;32m     16\u001b[0m         \u001b[0mfactors\u001b[0m\u001b[0;34m=\u001b[0m\u001b[0mfactors\u001b[0m\u001b[0;34m,\u001b[0m\u001b[0;34m\u001b[0m\u001b[0;34m\u001b[0m\u001b[0m\n",
      "\u001b[0;32m/tmp/ipykernel_35/3794598097.py\u001b[0m in \u001b[0;36mget_als_pred_optuna\u001b[0;34m(users, nodes, user_to_pred, factors, regularization, alpha, iterations, use_native, use_cg, dtype)\u001b[0m\n\u001b[1;32m     32\u001b[0m         \u001b[0mdtype\u001b[0m\u001b[0;34m=\u001b[0m\u001b[0mdtype\u001b[0m\u001b[0;34m\u001b[0m\u001b[0;34m\u001b[0m\u001b[0m\n\u001b[1;32m     33\u001b[0m     )\n\u001b[0;32m---> 34\u001b[0;31m     \u001b[0mmodel\u001b[0m\u001b[0;34m.\u001b[0m\u001b[0mfit\u001b[0m\u001b[0;34m(\u001b[0m\u001b[0msparse_matrix\u001b[0m\u001b[0;34m,\u001b[0m \u001b[0;34m)\u001b[0m\u001b[0;34m\u001b[0m\u001b[0;34m\u001b[0m\u001b[0m\n\u001b[0m\u001b[1;32m     35\u001b[0m \u001b[0;34m\u001b[0m\u001b[0m\n\u001b[1;32m     36\u001b[0m \u001b[0;34m\u001b[0m\u001b[0m\n",
      "\u001b[0;32m/usr/local/lib/python3.11/dist-packages/implicit/cpu/als.py\u001b[0m in \u001b[0;36mfit\u001b[0;34m(self, user_items, show_progress, callback)\u001b[0m\n\u001b[1;32m    161\u001b[0m             \u001b[0;32mfor\u001b[0m \u001b[0miteration\u001b[0m \u001b[0;32min\u001b[0m \u001b[0mrange\u001b[0m\u001b[0;34m(\u001b[0m\u001b[0mself\u001b[0m\u001b[0;34m.\u001b[0m\u001b[0miterations\u001b[0m\u001b[0;34m)\u001b[0m\u001b[0;34m:\u001b[0m\u001b[0;34m\u001b[0m\u001b[0;34m\u001b[0m\u001b[0m\n\u001b[1;32m    162\u001b[0m                 \u001b[0ms\u001b[0m \u001b[0;34m=\u001b[0m \u001b[0mtime\u001b[0m\u001b[0;34m.\u001b[0m\u001b[0mtime\u001b[0m\u001b[0;34m(\u001b[0m\u001b[0;34m)\u001b[0m\u001b[0;34m\u001b[0m\u001b[0;34m\u001b[0m\u001b[0m\n\u001b[0;32m--> 163\u001b[0;31m                 solver(\n\u001b[0m\u001b[1;32m    164\u001b[0m                     \u001b[0mCui\u001b[0m\u001b[0;34m,\u001b[0m\u001b[0;34m\u001b[0m\u001b[0;34m\u001b[0m\u001b[0m\n\u001b[1;32m    165\u001b[0m                     \u001b[0mself\u001b[0m\u001b[0;34m.\u001b[0m\u001b[0muser_factors\u001b[0m\u001b[0;34m,\u001b[0m\u001b[0;34m\u001b[0m\u001b[0;34m\u001b[0m\u001b[0m\n",
      "\u001b[0;32m/usr/local/lib/python3.11/dist-packages/implicit/cpu/als.py\u001b[0m in \u001b[0;36mleast_squares\u001b[0;34m(Cui, X, Y, regularization, num_threads)\u001b[0m\n\u001b[1;32m    488\u001b[0m \u001b[0;34m\u001b[0m\u001b[0m\n\u001b[1;32m    489\u001b[0m     \u001b[0;32mfor\u001b[0m \u001b[0mu\u001b[0m \u001b[0;32min\u001b[0m \u001b[0mrange\u001b[0m\u001b[0;34m(\u001b[0m\u001b[0musers\u001b[0m\u001b[0;34m)\u001b[0m\u001b[0;34m:\u001b[0m\u001b[0;34m\u001b[0m\u001b[0;34m\u001b[0m\u001b[0m\n\u001b[0;32m--> 490\u001b[0;31m         \u001b[0mX\u001b[0m\u001b[0;34m[\u001b[0m\u001b[0mu\u001b[0m\u001b[0;34m]\u001b[0m \u001b[0;34m=\u001b[0m \u001b[0muser_factor\u001b[0m\u001b[0;34m(\u001b[0m\u001b[0mY\u001b[0m\u001b[0;34m,\u001b[0m \u001b[0mYtY\u001b[0m\u001b[0;34m,\u001b[0m \u001b[0mCui\u001b[0m\u001b[0;34m,\u001b[0m \u001b[0mu\u001b[0m\u001b[0;34m,\u001b[0m \u001b[0mregularization\u001b[0m\u001b[0;34m,\u001b[0m \u001b[0mn_factors\u001b[0m\u001b[0;34m)\u001b[0m\u001b[0;34m\u001b[0m\u001b[0;34m\u001b[0m\u001b[0m\n\u001b[0m\u001b[1;32m    491\u001b[0m \u001b[0;34m\u001b[0m\u001b[0m\n\u001b[1;32m    492\u001b[0m \u001b[0;34m\u001b[0m\u001b[0m\n",
      "\u001b[0;32m/usr/local/lib/python3.11/dist-packages/implicit/cpu/als.py\u001b[0m in \u001b[0;36muser_factor\u001b[0;34m(Y, YtY, Cui, u, regularization, n_factors)\u001b[0m\n\u001b[1;32m    515\u001b[0m \u001b[0;32mdef\u001b[0m \u001b[0muser_factor\u001b[0m\u001b[0;34m(\u001b[0m\u001b[0mY\u001b[0m\u001b[0;34m,\u001b[0m \u001b[0mYtY\u001b[0m\u001b[0;34m,\u001b[0m \u001b[0mCui\u001b[0m\u001b[0;34m,\u001b[0m \u001b[0mu\u001b[0m\u001b[0;34m,\u001b[0m \u001b[0mregularization\u001b[0m\u001b[0;34m,\u001b[0m \u001b[0mn_factors\u001b[0m\u001b[0;34m)\u001b[0m\u001b[0;34m:\u001b[0m\u001b[0;34m\u001b[0m\u001b[0;34m\u001b[0m\u001b[0m\n\u001b[1;32m    516\u001b[0m     \u001b[0;31m# Xu = (YtCuY + regularization * I)^-1 (YtCuPu)\u001b[0m\u001b[0;34m\u001b[0m\u001b[0;34m\u001b[0m\u001b[0m\n\u001b[0;32m--> 517\u001b[0;31m     \u001b[0mA\u001b[0m\u001b[0;34m,\u001b[0m \u001b[0mb\u001b[0m \u001b[0;34m=\u001b[0m \u001b[0muser_linear_equation\u001b[0m\u001b[0;34m(\u001b[0m\u001b[0mY\u001b[0m\u001b[0;34m,\u001b[0m \u001b[0mYtY\u001b[0m\u001b[0;34m,\u001b[0m \u001b[0mCui\u001b[0m\u001b[0;34m,\u001b[0m \u001b[0mu\u001b[0m\u001b[0;34m,\u001b[0m \u001b[0mregularization\u001b[0m\u001b[0;34m,\u001b[0m \u001b[0mn_factors\u001b[0m\u001b[0;34m)\u001b[0m\u001b[0;34m\u001b[0m\u001b[0;34m\u001b[0m\u001b[0m\n\u001b[0m\u001b[1;32m    518\u001b[0m     \u001b[0;32mreturn\u001b[0m \u001b[0mnp\u001b[0m\u001b[0;34m.\u001b[0m\u001b[0mlinalg\u001b[0m\u001b[0;34m.\u001b[0m\u001b[0msolve\u001b[0m\u001b[0;34m(\u001b[0m\u001b[0mA\u001b[0m\u001b[0;34m,\u001b[0m \u001b[0mb\u001b[0m\u001b[0;34m)\u001b[0m\u001b[0;34m\u001b[0m\u001b[0;34m\u001b[0m\u001b[0m\n\u001b[1;32m    519\u001b[0m \u001b[0;34m\u001b[0m\u001b[0m\n",
      "\u001b[0;32m/usr/local/lib/python3.11/dist-packages/implicit/cpu/als.py\u001b[0m in \u001b[0;36muser_linear_equation\u001b[0;34m(Y, YtY, Cui, u, regularization, n_factors)\u001b[0m\n\u001b[1;32m    509\u001b[0m             \u001b[0mconfidence\u001b[0m \u001b[0;34m*=\u001b[0m \u001b[0;34m-\u001b[0m\u001b[0;36m1\u001b[0m\u001b[0;34m\u001b[0m\u001b[0;34m\u001b[0m\u001b[0m\n\u001b[1;32m    510\u001b[0m \u001b[0;34m\u001b[0m\u001b[0m\n\u001b[0;32m--> 511\u001b[0;31m         \u001b[0mA\u001b[0m \u001b[0;34m+=\u001b[0m \u001b[0;34m(\u001b[0m\u001b[0mconfidence\u001b[0m \u001b[0;34m-\u001b[0m \u001b[0;36m1\u001b[0m\u001b[0;34m)\u001b[0m \u001b[0;34m*\u001b[0m \u001b[0mnp\u001b[0m\u001b[0;34m.\u001b[0m\u001b[0mouter\u001b[0m\u001b[0;34m(\u001b[0m\u001b[0mfactor\u001b[0m\u001b[0;34m,\u001b[0m \u001b[0mfactor\u001b[0m\u001b[0;34m)\u001b[0m\u001b[0;34m\u001b[0m\u001b[0;34m\u001b[0m\u001b[0m\n\u001b[0m\u001b[1;32m    512\u001b[0m     \u001b[0;32mreturn\u001b[0m \u001b[0mA\u001b[0m\u001b[0;34m,\u001b[0m \u001b[0mb\u001b[0m\u001b[0;34m\u001b[0m\u001b[0;34m\u001b[0m\u001b[0m\n\u001b[1;32m    513\u001b[0m \u001b[0;34m\u001b[0m\u001b[0m\n",
      "\u001b[0;32m/usr/local/lib/python3.11/dist-packages/numpy/core/numeric.py\u001b[0m in \u001b[0;36m_outer_dispatcher\u001b[0;34m(a, b, out)\u001b[0m\n\u001b[1;32m    835\u001b[0m \u001b[0;34m\u001b[0m\u001b[0m\n\u001b[1;32m    836\u001b[0m \u001b[0;34m\u001b[0m\u001b[0m\n\u001b[0;32m--> 837\u001b[0;31m \u001b[0;32mdef\u001b[0m \u001b[0m_outer_dispatcher\u001b[0m\u001b[0;34m(\u001b[0m\u001b[0ma\u001b[0m\u001b[0;34m,\u001b[0m \u001b[0mb\u001b[0m\u001b[0;34m,\u001b[0m \u001b[0mout\u001b[0m\u001b[0;34m=\u001b[0m\u001b[0;32mNone\u001b[0m\u001b[0;34m)\u001b[0m\u001b[0;34m:\u001b[0m\u001b[0;34m\u001b[0m\u001b[0;34m\u001b[0m\u001b[0m\n\u001b[0m\u001b[1;32m    838\u001b[0m     \u001b[0;32mreturn\u001b[0m \u001b[0;34m(\u001b[0m\u001b[0ma\u001b[0m\u001b[0;34m,\u001b[0m \u001b[0mb\u001b[0m\u001b[0;34m,\u001b[0m \u001b[0mout\u001b[0m\u001b[0;34m)\u001b[0m\u001b[0;34m\u001b[0m\u001b[0;34m\u001b[0m\u001b[0m\n\u001b[1;32m    839\u001b[0m \u001b[0;34m\u001b[0m\u001b[0m\n",
      "\u001b[0;31mKeyboardInterrupt\u001b[0m: "
     ]
    }
   ],
   "source": [
    "study = optuna.create_study(direction=\"maximize\")\n",
    "study.optimize(objective, n_trials=5)\n",
    "\n",
    "print(\"Best recall@40:\", study.best_value)\n",
    "print(\"Best ALS params:\")\n",
    "\n",
    "study.best_trial.user_attrs[\"params\"], study.best_value"
   ]
  },
  {
   "cell_type": "code",
   "execution_count": 35,
   "id": "189bdcec-b521-4b2c-9f34-c45d2ce277c7",
   "metadata": {
    "execution": {
     "iopub.execute_input": "2025-05-16T19:03:09.981722Z",
     "iopub.status.busy": "2025-05-16T19:03:09.981036Z",
     "iopub.status.idle": "2025-05-16T19:03:12.401058Z",
     "shell.execute_reply": "2025-05-16T19:03:12.399999Z",
     "shell.execute_reply.started": "2025-05-16T19:03:09.981687Z"
    },
    "trusted": true
   },
   "outputs": [
    {
     "name": "stdout",
     "output_type": "stream",
     "text": [
      "🏃 View run als_optuna2_best at: http://51.250.35.156:5000/#/experiments/45/runs/782f79c3119e48d1814c0658cf3641bc\n",
      "🧪 View experiment at: http://51.250.35.156:5000/#/experiments/45\n"
     ]
    }
   ],
   "source": [
    "# optuna_best = [{'als_factors': 122,\n",
    "#   'als_regularization': 0.16625063986324726,\n",
    "#   'als_alpha': 6.384951229882748,\n",
    "#   'als_dtype': dtype('float32'),\n",
    "#   'als_use_native': True,\n",
    "#   'als_use_cg': True,\n",
    "#   'als_iterations': 11,\n",
    "#   'als_random_state': None},\n",
    "#  0.1576778771718187]\n",
    "\n",
    "with mlflow.start_run(run_name='als_optuna2_best'):\n",
    "    mlflow.log_params(study.best_trial.user_attrs[\"params\"])\n",
    "    mlflow.log_metrics({'Recall_40': study.best_value})"
   ]
  },
  {
   "cell_type": "markdown",
   "id": "2aade9f6-4203-45d4-9a82-bd49ff123ad7",
   "metadata": {},
   "source": [
    "# All experiments"
   ]
  },
  {
   "cell_type": "code",
   "execution_count": 39,
   "id": "2b756662-fb1c-40b9-aae7-5f673215b222",
   "metadata": {
    "execution": {
     "iopub.execute_input": "2025-05-16T19:57:51.585451Z",
     "iopub.status.busy": "2025-05-16T19:57:51.585060Z",
     "iopub.status.idle": "2025-05-16T20:00:53.790133Z",
     "shell.execute_reply": "2025-05-16T20:00:53.789487Z",
     "shell.execute_reply.started": "2025-05-16T19:57:51.585422Z"
    },
    "trusted": true
   },
   "outputs": [
    {
     "data": {
      "application/vnd.jupyter.widget-view+json": {
       "model_id": "bee7d61c01294412a2aa7d6d964fb931",
       "version_major": 2,
       "version_minor": 0
      },
      "text/plain": [
       "  0%|          | 0/11 [00:00<?, ?it/s]"
      ]
     },
     "metadata": {},
     "output_type": "display_data"
    },
    {
     "data": {
      "text/plain": [
       "0.15811003891937614"
      ]
     },
     "execution_count": 39,
     "metadata": {},
     "output_type": "execute_result"
    }
   ],
   "source": [
    "model_optuna_best = implicit.als.AlternatingLeastSquares(\n",
    "    factors=122,\n",
    "    regularization=0.16625063986324726,\n",
    "    alpha=6.384951229882748,\n",
    "    dtype=np.float32,\n",
    "    use_native=True,\n",
    "    use_cg=True,\n",
    "    iterations=11,\n",
    ")\n",
    "\n",
    "df_pred_optuna_best = get_als_pred(users, nodes,eval_users, model_optuna_best)\n",
    "\n",
    "recall_at(df_eval, df_pred_optuna_best, k=40)"
   ]
  },
  {
   "cell_type": "code",
   "execution_count": 42,
   "id": "ca4362f9-0293-4320-92b9-8f9b89ae445b",
   "metadata": {
    "execution": {
     "iopub.execute_input": "2025-05-16T20:09:06.616825Z",
     "iopub.status.busy": "2025-05-16T20:09:06.616408Z",
     "iopub.status.idle": "2025-05-16T20:13:12.983114Z",
     "shell.execute_reply": "2025-05-16T20:13:12.982349Z",
     "shell.execute_reply.started": "2025-05-16T20:09:06.616803Z"
    },
    "trusted": true
   },
   "outputs": [
    {
     "data": {
      "application/vnd.jupyter.widget-view+json": {
       "model_id": "cbdbdb68a33d406c8f65a782485dd2c8",
       "version_major": 2,
       "version_minor": 0
      },
      "text/plain": [
       "  0%|          | 0/14 [00:00<?, ?it/s]"
      ]
     },
     "metadata": {},
     "output_type": "display_data"
    },
    {
     "data": {
      "text/plain": [
       "0.15599995726416083"
      ]
     },
     "execution_count": 42,
     "metadata": {},
     "output_type": "execute_result"
    }
   ],
   "source": [
    "model_optuna2_best = implicit.als.AlternatingLeastSquares(\n",
    "    factors=108,\n",
    "    regularization=0.3320243092355322,\n",
    "    alpha=7.966318488604583,\n",
    "    dtype=np.float64,\n",
    "    use_native=True,\n",
    "    use_cg=True,\n",
    "    iterations=14,\n",
    ")\n",
    "\n",
    "df_pred_optuna2_best = get_als_pred(users, nodes,eval_users, model_optuna2_best)\n",
    "\n",
    "recall_at(df_eval, df_pred_optuna2_best, k=40)"
   ]
  },
  {
   "cell_type": "code",
   "execution_count": 45,
   "id": "e28cdff2-d14b-4dc1-b3ff-958077b13168",
   "metadata": {
    "execution": {
     "iopub.execute_input": "2025-05-16T20:18:41.146694Z",
     "iopub.status.busy": "2025-05-16T20:18:41.146240Z",
     "iopub.status.idle": "2025-05-16T20:21:29.850554Z",
     "shell.execute_reply": "2025-05-16T20:21:29.849520Z",
     "shell.execute_reply.started": "2025-05-16T20:18:41.146657Z"
    },
    "trusted": true
   },
   "outputs": [
    {
     "data": {
      "application/vnd.jupyter.widget-view+json": {
       "model_id": "24361c3a2cb34469ae1101087f095601",
       "version_major": 2,
       "version_minor": 0
      },
      "text/plain": [
       "  0%|          | 0/12 [00:00<?, ?it/s]"
      ]
     },
     "metadata": {},
     "output_type": "display_data"
    },
    {
     "data": {
      "text/plain": [
       "0.15699928212798264"
      ]
     },
     "execution_count": 45,
     "metadata": {},
     "output_type": "execute_result"
    }
   ],
   "source": [
    "model_als_2 = implicit.als.AlternatingLeastSquares(\n",
    "    factors=105,\n",
    "    regularization=0.36625063986324724,\n",
    "    alpha=3.5323,\n",
    "    dtype=np.float32,\n",
    "    use_native=True,\n",
    "    use_cg=True,\n",
    "    iterations=12,\n",
    ")\n",
    "\n",
    "df_pred_als_2 = get_als_pred(users, nodes,eval_users, model_als_2)\n",
    "\n",
    "recall_at(df_eval, df_pred_als_2, k=40)"
   ]
  },
  {
   "cell_type": "code",
   "execution_count": 47,
   "id": "cdcc4bc1-3b41-4c74-a22c-8226a697a285",
   "metadata": {
    "collapsed": true,
    "execution": {
     "iopub.execute_input": "2025-05-16T20:24:32.696004Z",
     "iopub.status.busy": "2025-05-16T20:24:32.695600Z",
     "iopub.status.idle": "2025-05-16T20:27:59.512764Z",
     "shell.execute_reply": "2025-05-16T20:27:59.511390Z",
     "shell.execute_reply.started": "2025-05-16T20:24:32.695981Z"
    },
    "jupyter": {
     "outputs_hidden": true
    },
    "trusted": true
   },
   "outputs": [
    {
     "data": {
      "application/vnd.jupyter.widget-view+json": {
       "model_id": "2330dec8d0784891bef242c64d49a486",
       "version_major": 2,
       "version_minor": 0
      },
      "text/plain": [
       "  0%|          | 0/15 [00:00<?, ?it/s]"
      ]
     },
     "metadata": {},
     "output_type": "display_data"
    },
    {
     "ename": "KeyboardInterrupt",
     "evalue": "",
     "output_type": "error",
     "traceback": [
      "\u001b[0;31m---------------------------------------------------------------------------\u001b[0m",
      "\u001b[0;31mKeyboardInterrupt\u001b[0m                         Traceback (most recent call last)",
      "\u001b[0;32m/tmp/ipykernel_35/1768968019.py\u001b[0m in \u001b[0;36m<cell line: 0>\u001b[0;34m()\u001b[0m\n\u001b[1;32m      9\u001b[0m )\n\u001b[1;32m     10\u001b[0m \u001b[0;34m\u001b[0m\u001b[0m\n\u001b[0;32m---> 11\u001b[0;31m \u001b[0mdf_pred_als_2\u001b[0m \u001b[0;34m=\u001b[0m \u001b[0mget_als_pred\u001b[0m\u001b[0;34m(\u001b[0m\u001b[0musers\u001b[0m\u001b[0;34m,\u001b[0m \u001b[0mnodes\u001b[0m\u001b[0;34m,\u001b[0m\u001b[0meval_users\u001b[0m\u001b[0;34m,\u001b[0m \u001b[0mmodel_als_2\u001b[0m\u001b[0;34m)\u001b[0m\u001b[0;34m\u001b[0m\u001b[0;34m\u001b[0m\u001b[0m\n\u001b[0m\u001b[1;32m     12\u001b[0m \u001b[0;34m\u001b[0m\u001b[0m\n\u001b[1;32m     13\u001b[0m \u001b[0mrecall_at\u001b[0m\u001b[0;34m(\u001b[0m\u001b[0mdf_eval\u001b[0m\u001b[0;34m,\u001b[0m \u001b[0mdf_pred_als_2\u001b[0m\u001b[0;34m,\u001b[0m \u001b[0mk\u001b[0m\u001b[0;34m=\u001b[0m\u001b[0;36m40\u001b[0m\u001b[0;34m)\u001b[0m\u001b[0;34m\u001b[0m\u001b[0;34m\u001b[0m\u001b[0m\n",
      "\u001b[0;32m/tmp/ipykernel_35/4224428879.py\u001b[0m in \u001b[0;36mget_als_pred\u001b[0;34m(users, nodes, user_to_pred, model)\u001b[0m\n\u001b[1;32m     15\u001b[0m \u001b[0;34m\u001b[0m\u001b[0m\n\u001b[1;32m     16\u001b[0m     \u001b[0;31m# model = implicit.als.AlternatingLeastSquares(iterations=10, factors=60)\u001b[0m\u001b[0;34m\u001b[0m\u001b[0;34m\u001b[0m\u001b[0m\n\u001b[0;32m---> 17\u001b[0;31m     \u001b[0mmodel\u001b[0m\u001b[0;34m.\u001b[0m\u001b[0mfit\u001b[0m\u001b[0;34m(\u001b[0m\u001b[0msparse_matrix\u001b[0m\u001b[0;34m,\u001b[0m \u001b[0;34m)\u001b[0m\u001b[0;34m\u001b[0m\u001b[0;34m\u001b[0m\u001b[0m\n\u001b[0m\u001b[1;32m     18\u001b[0m \u001b[0;34m\u001b[0m\u001b[0m\n\u001b[1;32m     19\u001b[0m \u001b[0;34m\u001b[0m\u001b[0m\n",
      "\u001b[0;32m/usr/local/lib/python3.11/dist-packages/implicit/cpu/als.py\u001b[0m in \u001b[0;36mfit\u001b[0;34m(self, user_items, show_progress, callback)\u001b[0m\n\u001b[1;32m    168\u001b[0m                     \u001b[0mnum_threads\u001b[0m\u001b[0;34m=\u001b[0m\u001b[0mself\u001b[0m\u001b[0;34m.\u001b[0m\u001b[0mnum_threads\u001b[0m\u001b[0;34m,\u001b[0m\u001b[0;34m\u001b[0m\u001b[0;34m\u001b[0m\u001b[0m\n\u001b[1;32m    169\u001b[0m                 )\n\u001b[0;32m--> 170\u001b[0;31m                 solver(\n\u001b[0m\u001b[1;32m    171\u001b[0m                     \u001b[0mCiu\u001b[0m\u001b[0;34m,\u001b[0m\u001b[0;34m\u001b[0m\u001b[0;34m\u001b[0m\u001b[0m\n\u001b[1;32m    172\u001b[0m                     \u001b[0mself\u001b[0m\u001b[0;34m.\u001b[0m\u001b[0mitem_factors\u001b[0m\u001b[0;34m,\u001b[0m\u001b[0;34m\u001b[0m\u001b[0;34m\u001b[0m\u001b[0m\n",
      "\u001b[0;31mKeyboardInterrupt\u001b[0m: "
     ]
    }
   ],
   "source": [
    "model_als_2 = implicit.als.AlternatingLeastSquares(\n",
    "    factors=125,\n",
    "    regularization=0.26625063986324726,\n",
    "    alpha=6.5323,\n",
    "    dtype=np.float32,\n",
    "    use_native=True,\n",
    "    use_cg=False,\n",
    "    iterations=15,\n",
    ")\n",
    "\n",
    "df_pred_als_2 = get_als_pred(users, nodes,eval_users, model_als_2)\n",
    "\n",
    "recall_at(df_eval, df_pred_als_2, k=40)"
   ]
  },
  {
   "cell_type": "code",
   "execution_count": 48,
   "id": "4ed3f0cf-0260-4e7f-9b09-ae327120f77c",
   "metadata": {
    "execution": {
     "iopub.execute_input": "2025-05-16T20:28:05.851962Z",
     "iopub.status.busy": "2025-05-16T20:28:05.851623Z",
     "iopub.status.idle": "2025-05-16T20:30:24.694204Z",
     "shell.execute_reply": "2025-05-16T20:30:24.693131Z",
     "shell.execute_reply.started": "2025-05-16T20:28:05.851936Z"
    },
    "trusted": true
   },
   "outputs": [
    {
     "data": {
      "application/vnd.jupyter.widget-view+json": {
       "model_id": "10d220bc3b9544f48863ae6a3a32bfb5",
       "version_major": 2,
       "version_minor": 0
      },
      "text/plain": [
       "  0%|          | 0/10 [00:02<?, ?it/s]"
      ]
     },
     "metadata": {},
     "output_type": "display_data"
    },
    {
     "data": {
      "text/plain": [
       "0.15181344942673614"
      ]
     },
     "execution_count": 48,
     "metadata": {},
     "output_type": "execute_result"
    }
   ],
   "source": [
    "model_als_1 = implicit.als.AlternatingLeastSquares(\n",
    "    factors=75,\n",
    "    iterations=10,\n",
    ")\n",
    "\n",
    "df_pred_als_1 = get_als_pred(users, nodes,eval_users, model_als_1)\n",
    "\n",
    "recall_at(df_eval, df_pred_als_1, k=40)"
   ]
  },
  {
   "cell_type": "code",
   "execution_count": 27,
   "id": "c38a95e5-0721-45f0-8010-8fac39e54621",
   "metadata": {
    "execution": {
     "iopub.execute_input": "2025-05-16T18:01:08.658126Z",
     "iopub.status.busy": "2025-05-16T18:01:08.657893Z",
     "iopub.status.idle": "2025-05-16T18:01:10.207342Z",
     "shell.execute_reply": "2025-05-16T18:01:10.206136Z",
     "shell.execute_reply.started": "2025-05-16T18:01:08.658109Z"
    },
    "trusted": true
   },
   "outputs": [
    {
     "name": "stdout",
     "output_type": "stream",
     "text": [
      "🏃 View run als_2 at: http://51.250.35.156:5000/#/experiments/45/runs/9f74e5d83c3f4528859890915771549e\n",
      "🧪 View experiment at: http://51.250.35.156:5000/#/experiments/45\n"
     ]
    }
   ],
   "source": [
    "with mlflow.start_run(run_name='als_2'):\n",
    "    \n",
    "    model_als_2 = model_optuna2_best\n",
    "    # df_pred = get_als_pred(users, nodes,eval_users, model_als_2)\n",
    "    \n",
    "    mlflow.log_params(get_params_als(model_als_2))\n",
    "    mlflow.log_metrics({'Recall_40': recall_at(df_eval, df_pred_als_2, k=40)})"
   ]
  }
 ],
 "metadata": {
  "kaggle": {
   "accelerator": "none",
   "dataSources": [
    {
     "datasetId": 7014875,
     "sourceId": 11230507,
     "sourceType": "datasetVersion"
    }
   ],
   "dockerImageVersionId": 31040,
   "isGpuEnabled": false,
   "isInternetEnabled": true,
   "language": "python",
   "sourceType": "notebook"
  },
  "kernelspec": {
   "display_name": "Python 3",
   "language": "python",
   "name": "python3"
  },
  "language_info": {
   "codemirror_mode": {
    "name": "ipython",
    "version": 3
   },
   "file_extension": ".py",
   "mimetype": "text/x-python",
   "name": "python",
   "nbconvert_exporter": "python",
   "pygments_lexer": "ipython3",
   "version": "3.11.11"
  }
 },
 "nbformat": 4,
 "nbformat_minor": 5
}
